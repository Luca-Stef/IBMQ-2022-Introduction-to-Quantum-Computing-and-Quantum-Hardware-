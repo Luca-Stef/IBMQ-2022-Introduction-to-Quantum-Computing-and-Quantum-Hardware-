{
 "cells": [
  {
   "cell_type": "markdown",
   "metadata": {},
   "source": [
    "![image](resources/qcqh-lab-header.png)"
   ]
  },
  {
   "cell_type": "markdown",
   "metadata": {},
   "source": [
    "# Lab 5: Quantum error correction\n",
    "\n",
    "You can do actual insightful science with IBM Quantum devices and the knowledge you have about quantum error correction. All you need are a few tools from Qiskit."
   ]
  },
  {
   "cell_type": "code",
   "execution_count": 1,
   "metadata": {},
   "outputs": [],
   "source": [
    "!pip install -U -r resources/requirements.txt\n",
    "from qiskit import *\n",
    "from IPython.display import clear_output\n",
    "clear_output()"
   ]
  },
  {
   "cell_type": "markdown",
   "metadata": {},
   "source": [
    "## Using a noise model\n",
    "\n",
    "In this lab we are going to deal with noisy quantum systems, or at least simulations of them. To deal with this in Qiskit, we need to import some things."
   ]
  },
  {
   "cell_type": "code",
   "execution_count": 2,
   "metadata": {},
   "outputs": [],
   "source": [
    "from qiskit.providers.aer.noise import NoiseModel\n",
    "from qiskit.providers.aer.noise.errors import pauli_error, depolarizing_error\n",
    "from qiskit.providers.aer.noise import thermal_relaxation_error"
   ]
  },
  {
   "cell_type": "markdown",
   "metadata": {},
   "source": [
    "The following function is designed to create a noise model which will be good for what we are doing here. It has two types of noise:\n",
    "* Errors on `cx` gates in which an `x`, `y` or `z` is randomly applied to each qubit.\n",
    "* Errors in measurement which simulated a thermal process happening over time."
   ]
  },
  {
   "cell_type": "code",
   "execution_count": 3,
   "metadata": {},
   "outputs": [],
   "source": [
    "def make_noise(p_cx=0,T1T2Tm=(1,1,0)):\n",
    "    '''\n",
    "        Returns a noise model specified by the inputs\n",
    "        - p_cx: probability of depolarizing noise on each\n",
    "                qubit during a cx\n",
    "        - T1T2Tm: tuple with (T1,T2,Tm), the T1 and T2 times\n",
    "              and the measurement time\n",
    "    '''\n",
    "    \n",
    "    noise_model = NoiseModel()\n",
    "    \n",
    "    # depolarizing error for cx\n",
    "    error_cx = depolarizing_error(p_cx, 1)\n",
    "    error_cx = error_cx.tensor(error_cx)\n",
    "    noise_model.add_all_qubit_quantum_error(error_cx, [\"cx\"])\n",
    "    \n",
    "    # thermal error for measurement\n",
    "    (T1,T2,Tm) = T1T2Tm\n",
    "    error_meas = thermal_relaxation_error(T1, T2, Tm)\n",
    "    noise_model.add_all_qubit_quantum_error(error_meas, \"measure\")\n",
    "        \n",
    "    return noise_model"
   ]
  },
  {
   "cell_type": "markdown",
   "metadata": {},
   "source": [
    "Let's check it out on a simple four qubit circuit. One qubit has an `x` applied. Two others has a `cx`. One has nothing. Then all are measured."
   ]
  },
  {
   "cell_type": "code",
   "execution_count": 4,
   "metadata": {},
   "outputs": [
    {
     "data": {
      "image/png": "[encoded data removed]",
      "text/plain": [
       "<Figure size 532.259x325.08 with 1 Axes>"
      ]
     },
     "execution_count": 4,
     "metadata": {},
     "output_type": "execute_result"
    }
   ],
   "source": [
    "qc = QuantumCircuit(4)\n",
    "qc.x(0)\n",
    "qc.cx(1,2)\n",
    "qc.measure_all()\n",
    "\n",
    "qc.draw(output='mpl')"
   ]
  },
  {
   "cell_type": "markdown",
   "metadata": {},
   "source": [
    "This is a simple circuit with a simple output, as we'll see when we run it."
   ]
  },
  {
   "cell_type": "code",
   "execution_count": 5,
   "metadata": {},
   "outputs": [
    {
     "data": {
      "text/plain": [
       "{'0001': 8192}"
      ]
     },
     "execution_count": 5,
     "metadata": {},
     "output_type": "execute_result"
    }
   ],
   "source": [
    "execute( qc, Aer.get_backend('qasm_simulator'), shots=8192).result().get_counts()"
   ]
  },
  {
   "cell_type": "markdown",
   "metadata": {},
   "source": [
    "Now let's run it with noise on the `cx` gates only."
   ]
  },
  {
   "cell_type": "code",
   "execution_count": 6,
   "metadata": {},
   "outputs": [
    {
     "data": {
      "text/plain": [
       "{'0001': 7371, '0011': 380, '0101': 424, '0111': 17}"
      ]
     },
     "execution_count": 6,
     "metadata": {},
     "output_type": "execute_result"
    }
   ],
   "source": [
    "noise_model = make_noise(p_cx=0.1)\n",
    "\n",
    "execute( qc, Aer.get_backend('qasm_simulator'), noise_model=noise_model, shots=8192).result().get_counts()"
   ]
  },
  {
   "cell_type": "markdown",
   "metadata": {},
   "source": [
    "The measurement noise depends on three numbers: $T_1$, $T_2$ and $T_m$. The first two describe the timescale for certain noise processes. The last describes how long measurements take. For simplicity we'll set $T_1=T_2=1$ and vary $T_m$. For $T_m=0$, the measurement is too fast to see any noise. The longer it takes, the more noise we'll see."
   ]
  },
  {
   "cell_type": "code",
   "execution_count": 7,
   "metadata": {},
   "outputs": [
    {
     "name": "stdout",
     "output_type": "stream",
     "text": [
      "Tm = 0.01 , counts = {'0000': 77, '0001': 8115}\n",
      "Tm = 0.1 , counts = {'0000': 773, '0001': 7419}\n",
      "Tm = 1 , counts = {'0000': 5144, '0001': 3048}\n",
      "Tm = 10 , counts = {'0000': 8191, '0001': 1}\n"
     ]
    }
   ],
   "source": [
    "for Tm in (0.01,0.1,1,10):\n",
    "\n",
    "    noise_model = make_noise(p_cx=0, T1T2Tm=(1,1,Tm))\n",
    "\n",
    "    counts = execute( qc, Aer.get_backend('qasm_simulator'), noise_model=noise_model, shots=8192).result().get_counts()\n",
    "    print('Tm =',Tm,', counts =',counts)"
   ]
  },
  {
   "cell_type": "markdown",
   "metadata": {},
   "source": [
    "The most notable effect of this noise is that it causes `1` values to relax down to `0`."
   ]
  },
  {
   "cell_type": "markdown",
   "metadata": {},
   "source": [
    "# Running repetition codes\n",
    "\n",
    "Qiskit has tools to make it easy to set up, run and analyze repetition codes."
   ]
  },
  {
   "cell_type": "code",
   "execution_count": 8,
   "metadata": {},
   "outputs": [],
   "source": [
    "from qiskit.ignis.verification.topological_codes import RepetitionCode\n",
    "from qiskit.ignis.verification.topological_codes import GraphDecoder\n",
    "from qiskit.ignis.verification.topological_codes import lookuptable_decoding, postselection_decoding"
   ]
  },
  {
   "cell_type": "markdown",
   "metadata": {},
   "source": [
    "Here's one with four repetitions and a single measurement round."
   ]
  },
  {
   "cell_type": "code",
   "execution_count": 9,
   "metadata": {},
   "outputs": [],
   "source": [
    "d = 4\n",
    "T = 1\n",
    "code = RepetitionCode(d,T)"
   ]
  },
  {
   "cell_type": "markdown",
   "metadata": {},
   "source": [
    "The repetition code object contains a couple of circuits: for encoded logical values of `0` and `1`."
   ]
  },
  {
   "cell_type": "code",
   "execution_count": 10,
   "metadata": {},
   "outputs": [
    {
     "data": {
      "text/plain": [
       "{'0': <qiskit.circuit.quantumcircuit.QuantumCircuit at 0x1caf7928df0>,\n",
       " '1': <qiskit.circuit.quantumcircuit.QuantumCircuit at 0x1caf7928be0>}"
      ]
     },
     "execution_count": 10,
     "metadata": {},
     "output_type": "execute_result"
    }
   ],
   "source": [
    "code.circuit"
   ]
  },
  {
   "cell_type": "markdown",
   "metadata": {},
   "source": [
    "Here's the one for `0`."
   ]
  },
  {
   "cell_type": "code",
   "execution_count": 11,
   "metadata": {},
   "outputs": [
    {
     "data": {
      "text/html": [
       "<pre style=\"word-wrap: normal;white-space: pre;background: #fff0;line-height: 1.1;font-family: &quot;Courier New&quot;,Courier,monospace\">                    ┌───┐          ┌───┐             ┌─┐               \n",
       "      link_qubit_0: ┤ X ├──────────┤ X ├─────────────┤M├───────────────\n",
       "                    └─┬─┘┌───┐     └─┬─┘┌───┐        └╥┘┌─┐            \n",
       "      link_qubit_1: ──┼──┤ X ├───────┼──┤ X ├─────────╫─┤M├────────────\n",
       "                      │  └─┬─┘┌───┐  │  └─┬─┘┌───┐    ║ └╥┘┌─┐         \n",
       "      link_qubit_2: ──┼────┼──┤ X ├──┼────┼──┤ X ├────╫──╫─┤M├─────────\n",
       "                      │    │  └─┬─┘  │    │  └─┬─┘┌─┐ ║  ║ └╥┘         \n",
       "      code_qubit_0: ──■────┼────┼────┼────┼────┼──┤M├─╫──╫──╫──────────\n",
       "                           │    │    │    │    │  └╥┘ ║  ║  ║ ┌─┐      \n",
       "      code_qubit_1: ───────■────┼────■────┼────┼───╫──╫──╫──╫─┤M├──────\n",
       "                                │         │    │   ║  ║  ║  ║ └╥┘┌─┐   \n",
       "      code_qubit_2: ────────────■─────────■────┼───╫──╫──╫──╫──╫─┤M├───\n",
       "                                               │   ║  ║  ║  ║  ║ └╥┘┌─┐\n",
       "      code_qubit_3: ───────────────────────────■───╫──╫──╫──╫──╫──╫─┤M├\n",
       "                                                   ║  ║  ║  ║  ║  ║ └╥┘\n",
       "round_0_link_bit: 3/═══════════════════════════════╬══╩══╩══╩══╬══╬══╬═\n",
       "                                                   ║  0  1  2  ║  ║  ║ \n",
       "                                                   ║           ║  ║  ║ \n",
       "        code_bit: 4/═══════════════════════════════╩═══════════╩══╩══╩═\n",
       "                                                   0           1  2  3 </pre>"
      ],
      "text/plain": [
       "                    ┌───┐          ┌───┐             ┌─┐               \n",
       "      link_qubit_0: ┤ X ├──────────┤ X ├─────────────┤M├───────────────\n",
       "                    └─┬─┘┌───┐     └─┬─┘┌───┐        └╥┘┌─┐            \n",
       "      link_qubit_1: ──┼──┤ X ├───────┼──┤ X ├─────────╫─┤M├────────────\n",
       "                      │  └─┬─┘┌───┐  │  └─┬─┘┌───┐    ║ └╥┘┌─┐         \n",
       "      link_qubit_2: ──┼────┼──┤ X ├──┼────┼──┤ X ├────╫──╫─┤M├─────────\n",
       "                      │    │  └─┬─┘  │    │  └─┬─┘┌─┐ ║  ║ └╥┘         \n",
       "      code_qubit_0: ──■────┼────┼────┼────┼────┼──┤M├─╫──╫──╫──────────\n",
       "                           │    │    │    │    │  └╥┘ ║  ║  ║ ┌─┐      \n",
       "      code_qubit_1: ───────■────┼────■────┼────┼───╫──╫──╫──╫─┤M├──────\n",
       "                                │         │    │   ║  ║  ║  ║ └╥┘┌─┐   \n",
       "      code_qubit_2: ────────────■─────────■────┼───╫──╫──╫──╫──╫─┤M├───\n",
       "                                               │   ║  ║  ║  ║  ║ └╥┘┌─┐\n",
       "      code_qubit_3: ───────────────────────────■───╫──╫──╫──╫──╫──╫─┤M├\n",
       "                                                   ║  ║  ║  ║  ║  ║ └╥┘\n",
       "round_0_link_bit: 3/═══════════════════════════════╬══╩══╩══╩══╬══╬══╬═\n",
       "                                                   ║  0  1  2  ║  ║  ║ \n",
       "                                                   ║           ║  ║  ║ \n",
       "        code_bit: 4/═══════════════════════════════╩═══════════╩══╩══╩═\n",
       "                                                   0           1  2  3 "
      ]
     },
     "execution_count": 11,
     "metadata": {},
     "output_type": "execute_result"
    }
   ],
   "source": [
    "code.circuit['0'].draw()"
   ]
  },
  {
   "cell_type": "markdown",
   "metadata": {},
   "source": [
    "And for `1`."
   ]
  },
  {
   "cell_type": "code",
   "execution_count": 12,
   "metadata": {},
   "outputs": [
    {
     "data": {
      "text/html": [
       "<pre style=\"word-wrap: normal;white-space: pre;background: #fff0;line-height: 1.1;font-family: &quot;Courier New&quot;,Courier,monospace\">                         ┌───┐          ┌───┐             ┌─┐               \n",
       "      link_qubit_0: ─────┤ X ├──────────┤ X ├─────────────┤M├───────────────\n",
       "                         └─┬─┘┌───┐     └─┬─┘┌───┐        └╥┘┌─┐            \n",
       "      link_qubit_1: ───────┼──┤ X ├───────┼──┤ X ├─────────╫─┤M├────────────\n",
       "                           │  └─┬─┘┌───┐  │  └─┬─┘┌───┐    ║ └╥┘┌─┐         \n",
       "      link_qubit_2: ───────┼────┼──┤ X ├──┼────┼──┤ X ├────╫──╫─┤M├─────────\n",
       "                    ┌───┐  │    │  └─┬─┘  │    │  └─┬─┘┌─┐ ║  ║ └╥┘         \n",
       "      code_qubit_0: ┤ X ├──■────┼────┼────┼────┼────┼──┤M├─╫──╫──╫──────────\n",
       "                    ├───┤       │    │    │    │    │  └╥┘ ║  ║  ║ ┌─┐      \n",
       "      code_qubit_1: ┤ X ├───────■────┼────■────┼────┼───╫──╫──╫──╫─┤M├──────\n",
       "                    ├───┤            │         │    │   ║  ║  ║  ║ └╥┘┌─┐   \n",
       "      code_qubit_2: ┤ X ├────────────■─────────■────┼───╫──╫──╫──╫──╫─┤M├───\n",
       "                    ├───┤                           │   ║  ║  ║  ║  ║ └╥┘┌─┐\n",
       "      code_qubit_3: ┤ X ├───────────────────────────■───╫──╫──╫──╫──╫──╫─┤M├\n",
       "                    └───┘                               ║  ║  ║  ║  ║  ║ └╥┘\n",
       "round_0_link_bit: 3/════════════════════════════════════╬══╩══╩══╩══╬══╬══╬═\n",
       "                                                        ║  0  1  2  ║  ║  ║ \n",
       "                                                        ║           ║  ║  ║ \n",
       "        code_bit: 4/════════════════════════════════════╩═══════════╩══╩══╩═\n",
       "                                                        0           1  2  3 </pre>"
      ],
      "text/plain": [
       "                         ┌───┐          ┌───┐             ┌─┐               \n",
       "      link_qubit_0: ─────┤ X ├──────────┤ X ├─────────────┤M├───────────────\n",
       "                         └─┬─┘┌───┐     └─┬─┘┌───┐        └╥┘┌─┐            \n",
       "      link_qubit_1: ───────┼──┤ X ├───────┼──┤ X ├─────────╫─┤M├────────────\n",
       "                           │  └─┬─┘┌───┐  │  └─┬─┘┌───┐    ║ └╥┘┌─┐         \n",
       "      link_qubit_2: ───────┼────┼──┤ X ├──┼────┼──┤ X ├────╫──╫─┤M├─────────\n",
       "                    ┌───┐  │    │  └─┬─┘  │    │  └─┬─┘┌─┐ ║  ║ └╥┘         \n",
       "      code_qubit_0: ┤ X ├──■────┼────┼────┼────┼────┼──┤M├─╫──╫──╫──────────\n",
       "                    ├───┤       │    │    │    │    │  └╥┘ ║  ║  ║ ┌─┐      \n",
       "      code_qubit_1: ┤ X ├───────■────┼────■────┼────┼───╫──╫──╫──╫─┤M├──────\n",
       "                    ├───┤            │         │    │   ║  ║  ║  ║ └╥┘┌─┐   \n",
       "      code_qubit_2: ┤ X ├────────────■─────────■────┼───╫──╫──╫──╫──╫─┤M├───\n",
       "                    ├───┤                           │   ║  ║  ║  ║  ║ └╥┘┌─┐\n",
       "      code_qubit_3: ┤ X ├───────────────────────────■───╫──╫──╫──╫──╫──╫─┤M├\n",
       "                    └───┘                               ║  ║  ║  ║  ║  ║ └╥┘\n",
       "round_0_link_bit: 3/════════════════════════════════════╬══╩══╩══╩══╬══╬══╬═\n",
       "                                                        ║  0  1  2  ║  ║  ║ \n",
       "                                                        ║           ║  ║  ║ \n",
       "        code_bit: 4/════════════════════════════════════╩═══════════╩══╩══╩═\n",
       "                                                        0           1  2  3 "
      ]
     },
     "execution_count": 12,
     "metadata": {},
     "output_type": "execute_result"
    }
   ],
   "source": [
    "code.circuit['1'].draw(output='text')"
   ]
  },
  {
   "cell_type": "markdown",
   "metadata": {},
   "source": [
    "We can run both circuits at once by first converting them into a list."
   ]
  },
  {
   "cell_type": "code",
   "execution_count": 13,
   "metadata": {},
   "outputs": [],
   "source": [
    "circuits = code.get_circuit_list()\n",
    "\n",
    "job = execute( circuits, Aer.get_backend('qasm_simulator'), noise_model=noise_model, shots=8192)"
   ]
  },
  {
   "cell_type": "markdown",
   "metadata": {},
   "source": [
    "Once they've run, we can extract the results and convert them into a form that allows us to more easily look at syndrome changes."
   ]
  },
  {
   "cell_type": "code",
   "execution_count": 14,
   "metadata": {},
   "outputs": [],
   "source": [
    "raw_results = {}\n",
    "for log in ['0','1']:\n",
    "    raw_results[log] = job.result().get_counts(log)\n",
    "\n",
    "results = code.process_results( raw_results )"
   ]
  },
  {
   "cell_type": "markdown",
   "metadata": {},
   "source": [
    "It's easiest to just package this up into a function."
   ]
  },
  {
   "cell_type": "code",
   "execution_count": 15,
   "metadata": {},
   "outputs": [],
   "source": [
    "def get_results(code, noise_model, shots=8192):\n",
    "    \n",
    "    circuits = code.get_circuit_list()\n",
    "\n",
    "    job = execute( circuits, Aer.get_backend('qasm_simulator'), noise_model=noise_model, shots=shots)\n",
    "\n",
    "    raw_results = {}\n",
    "    for log in ['0','1']:\n",
    "        raw_results[log] = job.result().get_counts(log)\n",
    "\n",
    "    results = code.process_results( raw_results )\n",
    "    \n",
    "    return results"
   ]
  },
  {
   "cell_type": "markdown",
   "metadata": {},
   "source": [
    "First let's look at an example without any noise, to keep things simple."
   ]
  },
  {
   "cell_type": "code",
   "execution_count": 16,
   "metadata": {},
   "outputs": [
    {
     "data": {
      "text/plain": [
       "{'0': {'0 0  000 000': 8192}, '1': {'1 1  000 000': 8192}}"
      ]
     },
     "execution_count": 16,
     "metadata": {},
     "output_type": "execute_result"
    }
   ],
   "source": [
    "noise_model = make_noise() # noise model with no noise\n",
    "\n",
    "results = get_results(code, noise_model)\n",
    "\n",
    "results"
   ]
  },
  {
   "cell_type": "markdown",
   "metadata": {},
   "source": [
    "Here's an example with some `cx` noise."
   ]
  },
  {
   "cell_type": "code",
   "execution_count": 17,
   "metadata": {},
   "outputs": [
    {
     "name": "stdout",
     "output_type": "stream",
     "text": [
      "\n",
      "Most common results for a stored 0\n",
      "0 0  000 000 ocurred for 7708 samples.\n",
      "\n",
      "Most common results for a stored 1\n",
      "1 1  000 000 ocurred for 7728 samples.\n"
     ]
    }
   ],
   "source": [
    "noise_model = make_noise(p_cx=0.01)\n",
    "\n",
    "results = get_results(code, noise_model)\n",
    "\n",
    "for log in results:\n",
    "    print('\\nMost common results for a stored',log)\n",
    "    for output in results[log]:\n",
    "        if results[log][output]>100:\n",
    "            print(output,'ocurred for',results[log][output],'samples.')"
   ]
  },
  {
   "cell_type": "markdown",
   "metadata": {},
   "source": [
    "The main thing we need to know is the probability of a logical error. By setting up and using a decoder, we can find out!"
   ]
  },
  {
   "cell_type": "code",
   "execution_count": 18,
   "metadata": {},
   "outputs": [
    {
     "data": {
      "text/plain": [
       "{'0': 0.0001220703125, '1': 0.0001220703125}"
      ]
     },
     "execution_count": 18,
     "metadata": {},
     "output_type": "execute_result"
    }
   ],
   "source": [
    "decoder = GraphDecoder(code)\n",
    "\n",
    "decoder.get_logical_prob(results)"
   ]
  },
  {
   "cell_type": "markdown",
   "metadata": {},
   "source": [
    "By calculating these value for different sizes of code and noise models, we can learn more about how the noise will affect large circuits. This is important for error correction, but also for the applications that we'll try to run before error correction is possible.\n",
    "\n",
    "Even more importantly, running these codes on real devices allows us to see the effects of real noise. Small-scale quantum error correction experiments like these will allow us to study the devices we have access to, understand what they do and why they do it, and test their abilities.\n",
    "\n",
    "This is the most important exercise that you can try: doing real and insightful experiments on cutting-edge quantum hardware. It's the kind of thing that professional researchers do and write papers about. I know this because I'm one of those researchers.\n",
    "\n",
    "See the following examples:\n",
    "* [\"A repetition code of 15 qubits\", James R. Wootton and Daniel Loss, Phys. Rev. A 97, 052313 (2018)](https://arxiv.org/abs/1709.00990)\n",
    "* [\"Benchmarking near-term devices with quantum error correction\", James R. Wootton, Quantum Science and Technology (2020)](https://arxiv.org/abs/2004.11037)\n",
    "\n",
    "As well as the relevant chapter of the Qiskit textbook: [5.1 Introduction to Quantum Error Correction using Repetition Codes](https://qiskit.org/textbook/ch-quantum-hardware/error-correction-repetition-code.html).\n",
    "\n",
    "By running repetition codes on the IBM quantum devices available to you, looking at the results and figuring out why they look like they do, you could soon know things about them that no-one else does!"
   ]
  },
  {
   "cell_type": "markdown",
   "metadata": {},
   "source": [
    "## Transpiling for real devices\n",
    "\n",
    "The first step toward using a real quantum device is to load your IBMQ account and set up the provider."
   ]
  },
  {
   "cell_type": "code",
   "execution_count": 19,
   "metadata": {},
   "outputs": [
    {
     "ename": "IBMQAccountCredentialsNotFound",
     "evalue": "'No IBM Quantum Experience credentials found.'",
     "output_type": "error",
     "traceback": [
      "\u001b[1;31m---------------------------------------------------------------------------\u001b[0m",
      "\u001b[1;31mIBMQAccountCredentialsNotFound\u001b[0m            Traceback (most recent call last)",
      "\u001b[1;32m<ipython-input-19-cb5c28e0877d>\u001b[0m in \u001b[0;36m<module>\u001b[1;34m\u001b[0m\n\u001b[1;32m----> 1\u001b[1;33m \u001b[0mIBMQ\u001b[0m\u001b[1;33m.\u001b[0m\u001b[0mload_account\u001b[0m\u001b[1;33m(\u001b[0m\u001b[1;33m)\u001b[0m\u001b[1;33m\u001b[0m\u001b[1;33m\u001b[0m\u001b[0m\n\u001b[0m\u001b[0;32m      2\u001b[0m \u001b[1;33m\u001b[0m\u001b[0m\n\u001b[0;32m      3\u001b[0m \u001b[0mprovider\u001b[0m \u001b[1;33m=\u001b[0m \u001b[0mIBMQ\u001b[0m\u001b[1;33m.\u001b[0m\u001b[0mget_provider\u001b[0m\u001b[1;33m(\u001b[0m\u001b[0mhub\u001b[0m\u001b[1;33m=\u001b[0m\u001b[1;34m'ibm-q'\u001b[0m\u001b[1;33m)\u001b[0m\u001b[1;33m\u001b[0m\u001b[1;33m\u001b[0m\u001b[0m\n",
      "\u001b[1;32m~\\anaconda3\\lib\\site-packages\\qiskit\\providers\\ibmq\\ibmqfactory.py\u001b[0m in \u001b[0;36mload_account\u001b[1;34m(self)\u001b[0m\n\u001b[0;32m    172\u001b[0m \u001b[1;33m\u001b[0m\u001b[0m\n\u001b[0;32m    173\u001b[0m         \u001b[1;32mif\u001b[0m \u001b[1;32mnot\u001b[0m \u001b[0mcredentials_list\u001b[0m\u001b[1;33m:\u001b[0m\u001b[1;33m\u001b[0m\u001b[1;33m\u001b[0m\u001b[0m\n\u001b[1;32m--> 174\u001b[1;33m             raise IBMQAccountCredentialsNotFound(\n\u001b[0m\u001b[0;32m    175\u001b[0m                 'No IBM Quantum Experience credentials found.')\n\u001b[0;32m    176\u001b[0m \u001b[1;33m\u001b[0m\u001b[0m\n",
      "\u001b[1;31mIBMQAccountCredentialsNotFound\u001b[0m: 'No IBM Quantum Experience credentials found.'"
     ]
    }
   ],
   "source": [
    "IBMQ.load_account()\n",
    "\n",
    "provider = IBMQ.get_provider(hub='ibm-q')"
   ]
  },
  {
   "cell_type": "markdown",
   "metadata": {},
   "source": [
    "Now you can set up a backend object for your device of choice. We'll go for the biggest device on offer: Melbourne."
   ]
  },
  {
   "cell_type": "code",
   "execution_count": null,
   "metadata": {},
   "outputs": [],
   "source": [
    "backend = provider.get_backend('ibmq_16_melbourne')"
   ]
  },
  {
   "cell_type": "markdown",
   "metadata": {},
   "source": [
    "Using the Jupyter tools, we can take a closer look."
   ]
  },
  {
   "cell_type": "code",
   "execution_count": null,
   "metadata": {},
   "outputs": [],
   "source": [
    "import qiskit.tools.jupyter\n",
    "%matplotlib inline\n",
    "\n",
    "backend"
   ]
  },
  {
   "cell_type": "markdown",
   "metadata": {},
   "source": [
    "This has enough qubits to run a $d=8$ repetition code. Let's set this up and get the circuits to run."
   ]
  },
  {
   "cell_type": "code",
   "execution_count": null,
   "metadata": {},
   "outputs": [],
   "source": [
    "d = 8\n",
    "code = RepetitionCode(8,1)\n",
    "\n",
    "raw_circuits = code.get_circuit_list()"
   ]
  },
  {
   "cell_type": "markdown",
   "metadata": {},
   "source": [
    "Rather than show such a big circuit, let's just look at how many of each type of gate there are. For example, repetition codes should have $2(d-1)$ `cx` gates in, which means 14 in this case."
   ]
  },
  {
   "cell_type": "code",
   "execution_count": null,
   "metadata": {},
   "outputs": [],
   "source": [
    "raw_circuits[1].count_ops()"
   ]
  },
  {
   "cell_type": "markdown",
   "metadata": {},
   "source": [
    "Before running on a real device we need to transpile. This is the process of turing the circuits into ones that the device can actually run. It is usually done automatically before running, but we can also do it ourself using the code below."
   ]
  },
  {
   "cell_type": "code",
   "execution_count": null,
   "metadata": {},
   "outputs": [],
   "source": [
    "circuits = []\n",
    "for qc in raw_circuits:\n",
    "    circuits.append( transpile(qc, backend=backend) )"
   ]
  },
  {
   "cell_type": "markdown",
   "metadata": {},
   "source": [
    "Let's check what this process did to the gates in the circuit."
   ]
  },
  {
   "cell_type": "code",
   "execution_count": null,
   "metadata": {},
   "outputs": [],
   "source": [
    "circuits[1].count_ops()"
   ]
  },
  {
   "cell_type": "markdown",
   "metadata": {},
   "source": [
    "Note that this has `u3` gates (which the circuit previously didn't) and the `x` gates have disappeared. The solution to this is simple. The `x` gates have just been described as specific forms of `u3` gates, which is the way that the hardware understands single qubit operations.\n",
    "\n",
    "More concerning is what has happened to the `cx` gates. There are now 74!.\n",
    "\n",
    "This is due to connectivity. If you ask for a combination of `cx` gates that cannot be directly implemented, the transpiler will do some fancy tricks to make a circuit which is effectively the same as the one you want. This comes at the cost of inserting `cx` gates. For more information, see [2.4 More Circuit-Identities](https://qiskit.org/textbook/ch-gates/more-circuit-identities.html).\n",
    "\n",
    "However, here our circuit *is* something that can be directly implemented. The transpiler just didn't realize (and figuring it out is a hard problem). We can solve the problem by telling the transpiler exactly which qubits on the device should be used as the qubits in our code.\n",
    "\n",
    "This is done by setting up an `initial_layout` as follows."
   ]
  },
  {
   "cell_type": "code",
   "execution_count": null,
   "metadata": {},
   "outputs": [],
   "source": [
    "def get_initial_layout(code,line):\n",
    "    initial_layout = {}\n",
    "    for j in range(code.d):\n",
    "        initial_layout[code.code_qubit[j]] = line[2*j]\n",
    "    for j in range(code.d-1):\n",
    "        initial_layout[code.link_qubit[j]] = line[2*j+1]\n",
    "    return initial_layout\n",
    "    \n",
    "line = [6,5,4,3,2,1,0,14,13,12,11,10,9,8,7]\n",
    "    \n",
    "initial_layout = get_initial_layout(code,line)\n",
    "\n",
    "initial_layout"
   ]
  },
  {
   "cell_type": "markdown",
   "metadata": {},
   "source": [
    "With this, let's try transpilation again."
   ]
  },
  {
   "cell_type": "code",
   "execution_count": null,
   "metadata": {},
   "outputs": [],
   "source": [
    "circuits = []\n",
    "for qc in raw_circuits:\n",
    "    circuits.append( transpile(qc, backend=backend, initial_layout=initial_layout) )\n",
    "    \n",
    "circuits[1].count_ops()"
   ]
  },
  {
   "cell_type": "markdown",
   "metadata": {},
   "source": [
    "Perfect!\n",
    "\n",
    "Now try for yourself on one of the devices that we've now retired: Tokyo."
   ]
  },
  {
   "cell_type": "code",
   "execution_count": null,
   "metadata": {},
   "outputs": [],
   "source": [
    "from qiskit.test.mock import FakeTokyo\n",
    "\n",
    "backend = FakeTokyo()\n",
    "\n",
    "backend"
   ]
  },
  {
   "cell_type": "markdown",
   "metadata": {},
   "source": [
    "The largest repetition code this can handle is one with $d=10$."
   ]
  },
  {
   "cell_type": "code",
   "execution_count": null,
   "metadata": {},
   "outputs": [],
   "source": [
    "d = 10\n",
    "code = RepetitionCode(d,1)\n",
    "raw_circuits = code.get_circuit_list()\n",
    "\n",
    "raw_circuits[1].count_ops()"
   ]
  },
  {
   "cell_type": "markdown",
   "metadata": {},
   "source": [
    "For this we need to find a line of 19 qubits across the coupling map."
   ]
  },
  {
   "cell_type": "code",
   "execution_count": null,
   "metadata": {},
   "outputs": [],
   "source": [
    "line = [0,1,2,3,4,5,6,7,8,9,10,11,12,13,14,15,16,17,18,19]\n",
    "initial_layout = get_initial_layout(code,line)\n",
    "\n",
    "circuits = []\n",
    "for qc in raw_circuits:\n",
    "    circuits.append(transpile(qc, backend=backend, initial_layout=initial_layout) )\n",
    "    \n",
    "circuits[1].count_ops()"
   ]
  },
  {
   "cell_type": "markdown",
   "metadata": {},
   "source": [
    "Clearly, the line chosen in the cell above was not a good example. Find a line such that the transpiled circuit `circuits[1]` has exactly 18 `cx` gates."
   ]
  },
  {
   "cell_type": "code",
   "execution_count": null,
   "metadata": {},
   "outputs": [],
   "source": [
    "line = None\n",
    "# define line variable so the transpiled circuit has exactly 18 CNOTs.\n",
    "### WRITE YOUR CODE BETWEEN THESE LINES - START\n",
    "\n",
    "line = [3,9,4,8,7,1,2,6,5,10,15,16,17,11,12,13,19,14,18]\n",
    "\n",
    "### WRITE YOUR CODE BETWEEN THESE LINES - END\n",
    "\n",
    "initial_layout = get_initial_layout(code,line)\n",
    "\n",
    "circuits = []\n",
    "for qc in raw_circuits:\n",
    "    circuits.append(transpile(qc, backend=backend, initial_layout=initial_layout) )\n",
    "    \n",
    "circuits[1].count_ops()"
   ]
  }
 ],
 "metadata": {
  "kernelspec": {
   "display_name": "Python 3",
   "language": "python",
   "name": "python3"
  },
  "language_info": {
   "codemirror_mode": {
    "name": "ipython",
    "version": 3
   },
   "file_extension": ".py",
   "mimetype": "text/x-python",
   "name": "python",
   "nbconvert_exporter": "python",
   "pygments_lexer": "ipython3",
   "version": "3.8.5"
  }
 },
 "nbformat": 4,
 "nbformat_minor": 4
}
