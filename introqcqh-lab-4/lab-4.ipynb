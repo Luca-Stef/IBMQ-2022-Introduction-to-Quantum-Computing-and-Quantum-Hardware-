{
 "cells": [
  {
   "cell_type": "markdown",
   "metadata": {},
   "source": [
    "![image](resources/qcqh-lab-header.png)"
   ]
  },
  {
   "cell_type": "markdown",
   "metadata": {},
   "source": [
    "# Lab 4: Shor's Algorithm"
   ]
  },
  {
   "cell_type": "markdown",
   "metadata": {},
   "source": [
    "In this lab, you will implement a quantum program to factor the number 15. In order to do this, you will write `Qiskit` code for Shor's algorithm following the material presented in lecture 10 to 12.\n",
    "\n",
    "You might find the following chapters of the Qiskit Textbook useful:\n",
    "- **Shor's algorithm**: https://qiskit.org/textbook/ch-algorithms/shor.html\n",
    "- **Quantum phase estimation**: https://qiskit.org/textbook/ch-algorithms/quantum-phase-estimation.html\n",
    "- **Quantum Fourier transform**: https://qiskit.org/textbook/ch-algorithms/quantum-fourier-transform.html\n",
    "\n",
    "Remember, to run a cell in Jupyter notebooks, you press `Shift` + `Return/Enter` on your keyboard."
   ]
  },
  {
   "cell_type": "markdown",
   "metadata": {},
   "source": [
    "### Installing necessary packages"
   ]
  },
  {
   "cell_type": "markdown",
   "metadata": {},
   "source": [
    "Before we begin, you will need to install some prerequisites into your environment. Run the cell below to complete these installations. At the end, the cell outputs will be cleared."
   ]
  },
  {
   "cell_type": "code",
   "execution_count": 1,
   "metadata": {
    "collapsed": true
   },
   "outputs": [
    {
     "name": "stdout",
     "output_type": "stream",
     "text": [
      "Requirement already satisfied: qiskit-terra==0.15.1 in c:\\users\\lucas\\anaconda3\\lib\\site-packages (from qiskit==0.20->-r resources/requirements.txt (line 1)) (0.15.1)\n",
      "Requirement already satisfied: qiskit-ibmq-provider==0.8.0 in c:\\users\\lucas\\anaconda3\\lib\\site-packages (from qiskit==0.20->-r resources/requirements.txt (line 1)) (0.8.0)\n",
      "Requirement already satisfied: qiskit-aqua==0.7.5 in c:\\users\\lucas\\anaconda3\\lib\\site-packages (from qiskit==0.20->-r resources/requirements.txt (line 1)) (0.7.5)\n",
      "Requirement already satisfied: qiskit-aer==0.6.1 in c:\\users\\lucas\\anaconda3\\lib\\site-packages (from qiskit==0.20->-r resources/requirements.txt (line 1)) (0.6.1)\n",
      "Requirement already satisfied: numpy>=1.13.3 in c:\\users\\lucas\\anaconda3\\lib\\site-packages (from seaborn==0.10->-r resources/requirements.txt (line 2)) (1.19.2)\n",
      "Requirement already satisfied: pandas>=0.22.0 in c:\\users\\lucas\\anaconda3\\lib\\site-packages (from seaborn==0.10->-r resources/requirements.txt (line 2)) (1.1.3)\n",
      "Requirement already satisfied: matplotlib>=2.1.2 in c:\\users\\lucas\\anaconda3\\lib\\site-packages (from seaborn==0.10->-r resources/requirements.txt (line 2)) (3.3.2)\n",
      "Requirement already satisfied: scipy>=1.0.1 in c:\\users\\lucas\\anaconda3\\lib\\site-packages (from seaborn==0.10->-r resources/requirements.txt (line 2)) (1.5.2)\n",
      "Requirement already satisfied: traitlets>=4.3.1 in c:\\users\\lucas\\anaconda3\\lib\\site-packages (from ipywidgets==7.5.1->-r resources/requirements.txt (line 3)) (5.0.5)\n",
      "Requirement already satisfied: nbformat>=4.2.0 in c:\\users\\lucas\\anaconda3\\lib\\site-packages (from ipywidgets==7.5.1->-r resources/requirements.txt (line 3)) (5.0.8)\n",
      "Requirement already satisfied: ipykernel>=4.5.1 in c:\\users\\lucas\\anaconda3\\lib\\site-packages (from ipywidgets==7.5.1->-r resources/requirements.txt (line 3)) (5.3.4)\n",
      "Requirement already satisfied: ipython>=4.0.0 in c:\\users\\lucas\\anaconda3\\lib\\site-packages (from ipywidgets==7.5.1->-r resources/requirements.txt (line 3)) (7.19.0)\n",
      "Requirement already satisfied: widgetsnbextension~=3.5.0 in c:\\users\\lucas\\anaconda3\\lib\\site-packages (from ipywidgets==7.5.1->-r resources/requirements.txt (line 3)) (3.5.1)\n",
      "Requirement already satisfied: pybind11>=2.4 in c:\\users\\lucas\\anaconda3\\lib\\site-packages (from qiskit-aer==0.6.1->qiskit==0.20->-r resources/requirements.txt (line 1)) (2.7.1)\n",
      "Requirement already satisfied: cython>=0.27.1 in c:\\users\\lucas\\anaconda3\\lib\\site-packages (from qiskit-aer==0.6.1->qiskit==0.20->-r resources/requirements.txt (line 1)) (0.29.21)\n",
      "Requirement already satisfied: setuptools>=40.1.0 in c:\\users\\lucas\\anaconda3\\lib\\site-packages (from qiskit-aqua==0.7.5->qiskit==0.20->-r resources/requirements.txt (line 1)) (50.3.1.post20201107)\n",
      "Requirement already satisfied: sympy>=1.3 in c:\\users\\lucas\\anaconda3\\lib\\site-packages (from qiskit-aqua==0.7.5->qiskit==0.20->-r resources/requirements.txt (line 1)) (1.6.2)\n",
      "Requirement already satisfied: yfinance in c:\\users\\lucas\\anaconda3\\lib\\site-packages (from qiskit-aqua==0.7.5->qiskit==0.20->-r resources/requirements.txt (line 1)) (0.1.63)\n",
      "Requirement already satisfied: psutil>=5 in c:\\users\\lucas\\anaconda3\\lib\\site-packages (from qiskit-aqua==0.7.5->qiskit==0.20->-r resources/requirements.txt (line 1)) (5.7.2)\n",
      "Requirement already satisfied: quandl in c:\\users\\lucas\\anaconda3\\lib\\site-packages (from qiskit-aqua==0.7.5->qiskit==0.20->-r resources/requirements.txt (line 1)) (3.6.1)\n",
      "Requirement already satisfied: networkx>=2.2 in c:\\users\\lucas\\anaconda3\\lib\\site-packages (from qiskit-aqua==0.7.5->qiskit==0.20->-r resources/requirements.txt (line 1)) (2.5)\n",
      "Requirement already satisfied: dlx in c:\\users\\lucas\\anaconda3\\lib\\site-packages (from qiskit-aqua==0.7.5->qiskit==0.20->-r resources/requirements.txt (line 1)) (1.0.4)\n",
      "Requirement already satisfied: h5py in c:\\users\\lucas\\anaconda3\\lib\\site-packages (from qiskit-aqua==0.7.5->qiskit==0.20->-r resources/requirements.txt (line 1)) (3.1.0)\n",
      "Requirement already satisfied: fastdtw in c:\\users\\lucas\\anaconda3\\lib\\site-packages (from qiskit-aqua==0.7.5->qiskit==0.20->-r resources/requirements.txt (line 1)) (0.3.4)\n",
      "Requirement already satisfied: docplex in c:\\users\\lucas\\anaconda3\\lib\\site-packages (from qiskit-aqua==0.7.5->qiskit==0.20->-r resources/requirements.txt (line 1)) (2.21.207)\n",
      "Requirement already satisfied: scikit-learn>=0.20.0 in c:\\users\\lucas\\anaconda3\\lib\\site-packages (from qiskit-aqua==0.7.5->qiskit==0.20->-r resources/requirements.txt (line 1)) (0.23.2)\n",
      "Requirement already satisfied: python-dateutil>=2.8.0 in c:\\users\\lucas\\anaconda3\\lib\\site-packages (from qiskit-ibmq-provider==0.8.0->qiskit==0.20->-r resources/requirements.txt (line 1)) (2.8.1)\n",
      "Requirement already satisfied: requests-ntlm>=1.1.0 in c:\\users\\lucas\\anaconda3\\lib\\site-packages (from qiskit-ibmq-provider==0.8.0->qiskit==0.20->-r resources/requirements.txt (line 1)) (1.1.0)\n",
      "Requirement already satisfied: nest-asyncio!=1.1.0,>=1.0.0 in c:\\users\\lucas\\anaconda3\\lib\\site-packages (from qiskit-ibmq-provider==0.8.0->qiskit==0.20->-r resources/requirements.txt (line 1)) (1.4.2)\n",
      "Requirement already satisfied: urllib3>=1.21.1 in c:\\users\\lucas\\anaconda3\\lib\\site-packages (from qiskit-ibmq-provider==0.8.0->qiskit==0.20->-r resources/requirements.txt (line 1)) (1.25.11)\n",
      "Requirement already satisfied: websockets>=8 in c:\\users\\lucas\\anaconda3\\lib\\site-packages (from qiskit-ibmq-provider==0.8.0->qiskit==0.20->-r resources/requirements.txt (line 1)) (9.1)\n",
      "Requirement already satisfied: requests>=2.19 in c:\\users\\lucas\\anaconda3\\lib\\site-packages (from qiskit-ibmq-provider==0.8.0->qiskit==0.20->-r resources/requirements.txt (line 1)) (2.24.0)\n",
      "Requirement already satisfied: fastjsonschema>=2.10 in c:\\users\\lucas\\anaconda3\\lib\\site-packages (from qiskit-terra==0.15.1->qiskit==0.20->-r resources/requirements.txt (line 1)) (2.15.1)\n",
      "Requirement already satisfied: retworkx>=0.4.0 in c:\\users\\lucas\\anaconda3\\lib\\site-packages (from qiskit-terra==0.15.1->qiskit==0.20->-r resources/requirements.txt (line 1)) (0.9.0)\n",
      "Requirement already satisfied: ply>=3.10 in c:\\users\\lucas\\anaconda3\\lib\\site-packages (from qiskit-terra==0.15.1->qiskit==0.20->-r resources/requirements.txt (line 1)) (3.11)\n",
      "Requirement already satisfied: dill>=0.3 in c:\\users\\lucas\\anaconda3\\lib\\site-packages (from qiskit-terra==0.15.1->qiskit==0.20->-r resources/requirements.txt (line 1)) (0.3.4)\n",
      "Requirement already satisfied: jsonschema>=2.6 in c:\\users\\lucas\\anaconda3\\lib\\site-packages (from qiskit-terra==0.15.1->qiskit==0.20->-r resources/requirements.txt (line 1)) (3.2.0)\n",
      "Requirement already satisfied: python-constraint>=1.4 in c:\\users\\lucas\\anaconda3\\lib\\site-packages (from qiskit-terra==0.15.1->qiskit==0.20->-r resources/requirements.txt (line 1)) (1.4.0)\n",
      "Requirement already satisfied: tornado>=4.2 in c:\\users\\lucas\\anaconda3\\lib\\site-packages (from ipykernel>=4.5.1->ipywidgets==7.5.1->-r resources/requirements.txt (line 3)) (6.0.4)\n",
      "Requirement already satisfied: jupyter-client in c:\\users\\lucas\\anaconda3\\lib\\site-packages (from ipykernel>=4.5.1->ipywidgets==7.5.1->-r resources/requirements.txt (line 3)) (6.1.7)\n",
      "Requirement already satisfied: decorator in c:\\users\\lucas\\anaconda3\\lib\\site-packages (from ipython>=4.0.0->ipywidgets==7.5.1->-r resources/requirements.txt (line 3)) (4.4.2)\n",
      "Requirement already satisfied: backcall in c:\\users\\lucas\\anaconda3\\lib\\site-packages (from ipython>=4.0.0->ipywidgets==7.5.1->-r resources/requirements.txt (line 3)) (0.2.0)\n",
      "Requirement already satisfied: prompt-toolkit!=3.0.0,!=3.0.1,<3.1.0,>=2.0.0 in c:\\users\\lucas\\anaconda3\\lib\\site-packages (from ipython>=4.0.0->ipywidgets==7.5.1->-r resources/requirements.txt (line 3)) (3.0.8)\n",
      "Requirement already satisfied: pygments in c:\\users\\lucas\\anaconda3\\lib\\site-packages (from ipython>=4.0.0->ipywidgets==7.5.1->-r resources/requirements.txt (line 3)) (2.7.2)\n",
      "Requirement already satisfied: jedi>=0.10 in c:\\users\\lucas\\anaconda3\\lib\\site-packages (from ipython>=4.0.0->ipywidgets==7.5.1->-r resources/requirements.txt (line 3)) (0.17.1)\n",
      "Requirement already satisfied: pickleshare in c:\\users\\lucas\\anaconda3\\lib\\site-packages (from ipython>=4.0.0->ipywidgets==7.5.1->-r resources/requirements.txt (line 3)) (0.7.5)\n",
      "Requirement already satisfied: colorama in c:\\users\\lucas\\anaconda3\\lib\\site-packages (from ipython>=4.0.0->ipywidgets==7.5.1->-r resources/requirements.txt (line 3)) (0.4.4)\n",
      "Requirement already satisfied: parso<0.8.0,>=0.7.0 in c:\\users\\lucas\\anaconda3\\lib\\site-packages (from jedi>=0.10->ipython>=4.0.0->ipywidgets==7.5.1->-r resources/requirements.txt (line 3)) (0.7.0)\n",
      "Requirement already satisfied: six>=1.11.0 in c:\\users\\lucas\\anaconda3\\lib\\site-packages (from jsonschema>=2.6->qiskit-terra==0.15.1->qiskit==0.20->-r resources/requirements.txt (line 1)) (1.15.0)\n",
      "Requirement already satisfied: pyrsistent>=0.14.0 in c:\\users\\lucas\\anaconda3\\lib\\site-packages (from jsonschema>=2.6->qiskit-terra==0.15.1->qiskit==0.20->-r resources/requirements.txt (line 1)) (0.17.3)\n",
      "Requirement already satisfied: attrs>=17.4.0 in c:\\users\\lucas\\anaconda3\\lib\\site-packages (from jsonschema>=2.6->qiskit-terra==0.15.1->qiskit==0.20->-r resources/requirements.txt (line 1)) (20.3.0)\n",
      "Requirement already satisfied: cycler>=0.10 in c:\\users\\lucas\\anaconda3\\lib\\site-packages (from matplotlib>=2.1.2->seaborn==0.10->-r resources/requirements.txt (line 2)) (0.10.0)\n",
      "Requirement already satisfied: pyparsing!=2.0.4,!=2.1.2,!=2.1.6,>=2.0.3 in c:\\users\\lucas\\anaconda3\\lib\\site-packages (from matplotlib>=2.1.2->seaborn==0.10->-r resources/requirements.txt (line 2)) (2.4.7)\n",
      "Requirement already satisfied: certifi>=2020.06.20 in c:\\users\\lucas\\anaconda3\\lib\\site-packages (from matplotlib>=2.1.2->seaborn==0.10->-r resources/requirements.txt (line 2)) (2020.6.20)\n",
      "Requirement already satisfied: pillow>=6.2.0 in c:\\users\\lucas\\anaconda3\\lib\\site-packages (from matplotlib>=2.1.2->seaborn==0.10->-r resources/requirements.txt (line 2)) (8.0.1)\n",
      "Requirement already satisfied: kiwisolver>=1.0.1 in c:\\users\\lucas\\anaconda3\\lib\\site-packages (from matplotlib>=2.1.2->seaborn==0.10->-r resources/requirements.txt (line 2)) (1.3.0)\n",
      "Requirement already satisfied: ipython-genutils in c:\\users\\lucas\\anaconda3\\lib\\site-packages (from nbformat>=4.2.0->ipywidgets==7.5.1->-r resources/requirements.txt (line 3)) (0.2.0)\n",
      "Requirement already satisfied: jupyter-core in c:\\users\\lucas\\anaconda3\\lib\\site-packages (from nbformat>=4.2.0->ipywidgets==7.5.1->-r resources/requirements.txt (line 3)) (4.6.3)\n",
      "Requirement already satisfied: pytz>=2017.2 in c:\\users\\lucas\\anaconda3\\lib\\site-packages (from pandas>=0.22.0->seaborn==0.10->-r resources/requirements.txt (line 2)) (2020.1)\n",
      "Requirement already satisfied: wcwidth in c:\\users\\lucas\\anaconda3\\lib\\site-packages (from prompt-toolkit!=3.0.0,!=3.0.1,<3.1.0,>=2.0.0->ipython>=4.0.0->ipywidgets==7.5.1->-r resources/requirements.txt (line 3)) (0.2.5)\n",
      "Requirement already satisfied: idna<3,>=2.5 in c:\\users\\lucas\\anaconda3\\lib\\site-packages (from requests>=2.19->qiskit-ibmq-provider==0.8.0->qiskit==0.20->-r resources/requirements.txt (line 1)) (2.10)\n",
      "Requirement already satisfied: chardet<4,>=3.0.2 in c:\\users\\lucas\\anaconda3\\lib\\site-packages (from requests>=2.19->qiskit-ibmq-provider==0.8.0->qiskit==0.20->-r resources/requirements.txt (line 1)) (3.0.4)\n",
      "Requirement already satisfied: ntlm-auth>=1.0.2 in c:\\users\\lucas\\anaconda3\\lib\\site-packages (from requests-ntlm>=1.1.0->qiskit-ibmq-provider==0.8.0->qiskit==0.20->-r resources/requirements.txt (line 1)) (1.5.0)\n",
      "Requirement already satisfied: cryptography>=1.3 in c:\\users\\lucas\\anaconda3\\lib\\site-packages (from requests-ntlm>=1.1.0->qiskit-ibmq-provider==0.8.0->qiskit==0.20->-r resources/requirements.txt (line 1)) (3.1.1)\n",
      "Requirement already satisfied: cffi!=1.11.3,>=1.8 in c:\\users\\lucas\\anaconda3\\lib\\site-packages (from cryptography>=1.3->requests-ntlm>=1.1.0->qiskit-ibmq-provider==0.8.0->qiskit==0.20->-r resources/requirements.txt (line 1)) (1.14.3)\n",
      "Requirement already satisfied: pycparser in c:\\users\\lucas\\anaconda3\\lib\\site-packages (from cffi!=1.11.3,>=1.8->cryptography>=1.3->requests-ntlm>=1.1.0->qiskit-ibmq-provider==0.8.0->qiskit==0.20->-r resources/requirements.txt (line 1)) (2.20)\n",
      "Requirement already satisfied: joblib>=0.11 in c:\\users\\lucas\\anaconda3\\lib\\site-packages (from scikit-learn>=0.20.0->qiskit-aqua==0.7.5->qiskit==0.20->-r resources/requirements.txt (line 1)) (0.17.0)\n",
      "Requirement already satisfied: threadpoolctl>=2.0.0 in c:\\users\\lucas\\anaconda3\\lib\\site-packages (from scikit-learn>=0.20.0->qiskit-aqua==0.7.5->qiskit==0.20->-r resources/requirements.txt (line 1)) (2.1.0)\n",
      "Requirement already satisfied: mpmath>=0.19 in c:\\users\\lucas\\anaconda3\\lib\\site-packages (from sympy>=1.3->qiskit-aqua==0.7.5->qiskit==0.20->-r resources/requirements.txt (line 1)) (1.1.0)\n",
      "Requirement already satisfied: notebook>=4.4.1 in c:\\users\\lucas\\anaconda3\\lib\\site-packages (from widgetsnbextension~=3.5.0->ipywidgets==7.5.1->-r resources/requirements.txt (line 3)) (6.1.4)\n",
      "Requirement already satisfied: terminado>=0.8.3 in c:\\users\\lucas\\anaconda3\\lib\\site-packages (from notebook>=4.4.1->widgetsnbextension~=3.5.0->ipywidgets==7.5.1->-r resources/requirements.txt (line 3)) (0.9.1)\n",
      "Requirement already satisfied: prometheus-client in c:\\users\\lucas\\anaconda3\\lib\\site-packages (from notebook>=4.4.1->widgetsnbextension~=3.5.0->ipywidgets==7.5.1->-r resources/requirements.txt (line 3)) (0.8.0)\n",
      "Requirement already satisfied: jinja2 in c:\\users\\lucas\\anaconda3\\lib\\site-packages (from notebook>=4.4.1->widgetsnbextension~=3.5.0->ipywidgets==7.5.1->-r resources/requirements.txt (line 3)) (2.11.2)\n",
      "Requirement already satisfied: argon2-cffi in c:\\users\\lucas\\anaconda3\\lib\\site-packages (from notebook>=4.4.1->widgetsnbextension~=3.5.0->ipywidgets==7.5.1->-r resources/requirements.txt (line 3)) (20.1.0)\n",
      "Requirement already satisfied: nbconvert in c:\\users\\lucas\\anaconda3\\lib\\site-packages (from notebook>=4.4.1->widgetsnbextension~=3.5.0->ipywidgets==7.5.1->-r resources/requirements.txt (line 3)) (6.0.7)\n",
      "Requirement already satisfied: Send2Trash in c:\\users\\lucas\\anaconda3\\lib\\site-packages (from notebook>=4.4.1->widgetsnbextension~=3.5.0->ipywidgets==7.5.1->-r resources/requirements.txt (line 3)) (1.5.0)\n",
      "Requirement already satisfied: pyzmq>=17 in c:\\users\\lucas\\anaconda3\\lib\\site-packages (from notebook>=4.4.1->widgetsnbextension~=3.5.0->ipywidgets==7.5.1->-r resources/requirements.txt (line 3)) (19.0.2)\n",
      "Requirement already satisfied: pywin32>=1.0 in c:\\users\\lucas\\anaconda3\\lib\\site-packages (from jupyter-core->nbformat>=4.2.0->ipywidgets==7.5.1->-r resources/requirements.txt (line 3)) (227)\n",
      "Requirement already satisfied: pywinpty>=0.5 in c:\\users\\lucas\\anaconda3\\lib\\site-packages (from terminado>=0.8.3->notebook>=4.4.1->widgetsnbextension~=3.5.0->ipywidgets==7.5.1->-r resources/requirements.txt (line 3)) (0.5.7)\n",
      "Requirement already satisfied: MarkupSafe>=0.23 in c:\\users\\lucas\\anaconda3\\lib\\site-packages (from jinja2->notebook>=4.4.1->widgetsnbextension~=3.5.0->ipywidgets==7.5.1->-r resources/requirements.txt (line 3)) (1.1.1)\n",
      "Requirement already satisfied: testpath in c:\\users\\lucas\\anaconda3\\lib\\site-packages (from nbconvert->notebook>=4.4.1->widgetsnbextension~=3.5.0->ipywidgets==7.5.1->-r resources/requirements.txt (line 3)) (0.4.4)\n",
      "Requirement already satisfied: nbclient<0.6.0,>=0.5.0 in c:\\users\\lucas\\anaconda3\\lib\\site-packages (from nbconvert->notebook>=4.4.1->widgetsnbextension~=3.5.0->ipywidgets==7.5.1->-r resources/requirements.txt (line 3)) (0.5.1)\n",
      "Requirement already satisfied: bleach in c:\\users\\lucas\\anaconda3\\lib\\site-packages (from nbconvert->notebook>=4.4.1->widgetsnbextension~=3.5.0->ipywidgets==7.5.1->-r resources/requirements.txt (line 3)) (3.2.1)\n",
      "Requirement already satisfied: entrypoints>=0.2.2 in c:\\users\\lucas\\anaconda3\\lib\\site-packages (from nbconvert->notebook>=4.4.1->widgetsnbextension~=3.5.0->ipywidgets==7.5.1->-r resources/requirements.txt (line 3)) (0.3)\n",
      "Requirement already satisfied: defusedxml in c:\\users\\lucas\\anaconda3\\lib\\site-packages (from nbconvert->notebook>=4.4.1->widgetsnbextension~=3.5.0->ipywidgets==7.5.1->-r resources/requirements.txt (line 3)) (0.6.0)\n",
      "Requirement already satisfied: pandocfilters>=1.4.1 in c:\\users\\lucas\\anaconda3\\lib\\site-packages (from nbconvert->notebook>=4.4.1->widgetsnbextension~=3.5.0->ipywidgets==7.5.1->-r resources/requirements.txt (line 3)) (1.4.3)\n",
      "Requirement already satisfied: mistune<2,>=0.8.1 in c:\\users\\lucas\\anaconda3\\lib\\site-packages (from nbconvert->notebook>=4.4.1->widgetsnbextension~=3.5.0->ipywidgets==7.5.1->-r resources/requirements.txt (line 3)) (0.8.4)\n",
      "Requirement already satisfied: jupyterlab-pygments in c:\\users\\lucas\\anaconda3\\lib\\site-packages (from nbconvert->notebook>=4.4.1->widgetsnbextension~=3.5.0->ipywidgets==7.5.1->-r resources/requirements.txt (line 3)) (0.1.2)\n",
      "Requirement already satisfied: async-generator in c:\\users\\lucas\\anaconda3\\lib\\site-packages (from nbclient<0.6.0,>=0.5.0->nbconvert->notebook>=4.4.1->widgetsnbextension~=3.5.0->ipywidgets==7.5.1->-r resources/requirements.txt (line 3)) (1.10)\n",
      "Requirement already satisfied: webencodings in c:\\users\\lucas\\anaconda3\\lib\\site-packages (from bleach->nbconvert->notebook>=4.4.1->widgetsnbextension~=3.5.0->ipywidgets==7.5.1->-r resources/requirements.txt (line 3)) (0.5.1)\n",
      "Requirement already satisfied: packaging in c:\\users\\lucas\\anaconda3\\lib\\site-packages (from bleach->nbconvert->notebook>=4.4.1->widgetsnbextension~=3.5.0->ipywidgets==7.5.1->-r resources/requirements.txt (line 3)) (20.4)\n",
      "Requirement already satisfied: more-itertools in c:\\users\\lucas\\anaconda3\\lib\\site-packages (from quandl->qiskit-aqua==0.7.5->qiskit==0.20->-r resources/requirements.txt (line 1)) (8.6.0)\n",
      "Requirement already satisfied: inflection>=0.3.1 in c:\\users\\lucas\\anaconda3\\lib\\site-packages (from quandl->qiskit-aqua==0.7.5->qiskit==0.20->-r resources/requirements.txt (line 1)) (0.5.1)\n",
      "Requirement already satisfied: lxml>=4.5.1 in c:\\users\\lucas\\anaconda3\\lib\\site-packages (from yfinance->qiskit-aqua==0.7.5->qiskit==0.20->-r resources/requirements.txt (line 1)) (4.6.1)\n",
      "Requirement already satisfied: multitasking>=0.0.7 in c:\\users\\lucas\\anaconda3\\lib\\site-packages (from yfinance->qiskit-aqua==0.7.5->qiskit==0.20->-r resources/requirements.txt (line 1)) (0.0.9)\n"
     ]
    }
   ],
   "source": [
    "!pip install -U -r resources/requirements.txt\n",
    "\n",
    "from IPython.display import clear_output\n",
    "clear_output()"
   ]
  },
  {
   "cell_type": "markdown",
   "metadata": {},
   "source": [
    "# Review of Shor's Algorithm"
   ]
  },
  {
   "cell_type": "markdown",
   "metadata": {},
   "source": [
    "![image](resources/shor_circuit.png)"
   ]
  },
  {
   "cell_type": "markdown",
   "metadata": {},
   "source": [
    "You might recall from lectures 10 to 12 that Shor's algorithm can be used to factor numbers $N$ that are products of the form \n",
    "\n",
    "$$N = pq$$\n",
    "\n",
    "where $p$ and $q$ are prime numbers. This is done in four main steps, similar to the implementation of quantum phase estimation. In this case, we will use two registers of qubits. The first register will have $n$ qubits, and will contain the measurement qubits. The second register will have $m$ qubits, and will be the eigenstate for quantum phase estimation. \n",
    "\n",
    "1. First, we begin by initializing our qubits. We create a superposition of all $2^n$ computational basis states on the $n$ measurement qubits by applying a Hadamard ($H$) gate on each qubit starting off in the state $\\vert0\\rangle^{\\otimes n}$. We also initialize the $m$ target qubits in the state $\\vert1\\rangle$. Here, the exponent $\\otimes n$ means that we have a tensor product of the states of $n$ qubits.\n",
    "\n",
    "2. Second, we apply the unitary operator $U$ with various powers onto the target qubits by controlling it with each of the different measurement qubits. The unitary operator in this case implements modular exponentiation. The schematic above shows the ordering and respective powers.\n",
    "\n",
    "3. Third, we apply an inverse quantum Fourier transform on the $n$ measurement qubits.\n",
    "\n",
    "4. Finally, we measure the first $n$ qubits.\n",
    "\n",
    "After the measurement outcomes are determined, we will need to do additional classical post-processing in order to determine the factors or to decide to run the program again.\n",
    "\n",
    "\n",
    "# Graded Exercise 1: Implementing Shor's Algorithm\n",
    "\n",
    "In this lab, we will implement Shor's algorithm and use it to factor 15 into 3 and 5."
   ]
  },
  {
   "cell_type": "markdown",
   "metadata": {},
   "source": [
    "### 1. Initializing the qubits\n",
    "\n",
    "We will need to initialize our qubits as described above by applying a Hadamard gate on each of the $n$ measurement qubits. We will also set the target qubits to $\\vert1\\rangle$, since that is the eigenstate onto which the unitary operator $U$ will be applied. Here, $\\vert1\\rangle$ is initialized by applying an $X$ gate on the last qubit.\n",
    "\n",
    "We have created a function below called `initialize_qubits` which takes in three arguments. The first argument is the quantum circuit onto which the gates will be applied. The second argument, `n`, is the number of measurement qubits. The third argument, `m`, is the number of target qubits for the unitary operator."
   ]
  },
  {
   "cell_type": "code",
   "execution_count": 2,
   "metadata": {},
   "outputs": [],
   "source": [
    "def initialize_qubits(given_circuit, n, m):\n",
    "    \n",
    "    ### WRITE YOUR CODE BETWEEN THESE LINES - START\n",
    "    for i in range(n):\n",
    "        given_circuit.h(i)\n",
    "    given_circuit.x(-1)\n",
    "    ### WRITE YOUR CODE BETWEEN THESE LINES - END"
   ]
  },
  {
   "cell_type": "markdown",
   "metadata": {},
   "source": [
    "### 2. Modular exponentiation\n",
    "\n",
    "We have created a function called `a_x_mod15` below which takes in two arguments, `a` and `x`, and implements the unitary operator $$U = a^x \\text{ mod } 15$$\n",
    "\n",
    "**You do not need to modify this function.**"
   ]
  },
  {
   "cell_type": "code",
   "execution_count": 3,
   "metadata": {},
   "outputs": [],
   "source": [
    "from qiskit import QuantumCircuit\n",
    "\n",
    "def a_x_mod15(a, x):\n",
    "    if a not in [2,7,8,11,13]:\n",
    "        raise ValueError(\"'a' must be 2, 7, 8, 11 or 13\")\n",
    "    U = QuantumCircuit(4)        \n",
    "    for iteration in range(x):\n",
    "        if a in [2, 13]:\n",
    "            U.swap(0,1)\n",
    "            U.swap(1,2)\n",
    "            U.swap(2,3)\n",
    "        if a in [7, 8]:\n",
    "            U.swap(2,3)\n",
    "            U.swap(1,2)\n",
    "            U.swap(0,1)\n",
    "        if a == 11:\n",
    "            U.swap(1, 3)\n",
    "            U.swap(0,2)\n",
    "        if a in [7,11,13]:\n",
    "            for q in range(4):\n",
    "                U.x(q)\n",
    "    U = U.to_gate()\n",
    "    U.name = \"%i^%i mod 15\" % (a, x)\n",
    "    c_U = U.control()\n",
    "    return c_U"
   ]
  },
  {
   "cell_type": "markdown",
   "metadata": {},
   "source": [
    "Note that the function `a_x_mod15` creates a 4-qubit unitary controlled by an additional fifth qubit. In order to use this gate, you will need to append it to your quantum circuit using `Qiskit`'s `circuit.append()` function by passing in the five qubits in a list containing the control qubit first, followed by the four target qubits.\n",
    "\n",
    "Below, we have created a function called `modular_exponentiation` which takes in four arguments. The first argument, `given_circuit`, is the circuit onto which modular exponentiation will be applied. The next two arguments, `n` and `m`, are the numbers of measurement and target qubits. The schematic above for Shor's algorithm will be useful here. The last argument, `a`, is the base of the modular exponentiation. You will need to call the function `a_x_mod15` as needed in the function below."
   ]
  },
  {
   "cell_type": "code",
   "execution_count": 4,
   "metadata": {},
   "outputs": [],
   "source": [
    "def modular_exponentiation(given_circuit, n, m, a):\n",
    "    \n",
    "    ### WRITE YOUR CODE BETWEEN THESE LINES - START\n",
    "    for i in range(n):\n",
    "        given_circuit.append(a_x_mod15(a, 2**i), [i] + list(range(n, n+m)))\n",
    "    ### WRITE YOUR CODE BETWEEN THESE LINES - END"
   ]
  },
  {
   "cell_type": "markdown",
   "metadata": {},
   "source": [
    "### 3. Implementing the inverse quantum Fourier transform\n",
    "\n",
    "The last step before measuring the first $n$ qubits is the implementation of the inverse quantum Fourier transform. As with `lab3`, you can either implement it on your own or use `Qiskit`'s circuit library.\n",
    "\n",
    "The function `apply_iqft` takes two arguments. The first argument, `given_circuit`, contains the qubits onto which the inverse quantum Fourier transform will be applied. The second argument, `measurement_qubits`, contains the list of qubits onto which the inverse quantum Fourier transform will be applied."
   ]
  },
  {
   "cell_type": "code",
   "execution_count": 5,
   "metadata": {},
   "outputs": [],
   "source": [
    "from qiskit.circuit.library import QFT"
   ]
  },
  {
   "cell_type": "code",
   "execution_count": 6,
   "metadata": {},
   "outputs": [],
   "source": [
    "def apply_iqft(given_circuit, measurement_qubits):\n",
    "    \n",
    "    ### WRITE YOUR CODE BETWEEN THESE LINES - START\n",
    "    given_circuit.append(QFT(len(measurement_qubits), do_swaps=False).inverse(), measurement_qubits)\n",
    "    ### WRITE YOUR CODE BETWEEN THESE LINES - END"
   ]
  },
  {
   "cell_type": "markdown",
   "metadata": {},
   "source": [
    "### 4. Putting it all together\n",
    "\n",
    "Finally, we combine the functions to construct the quantum program that implements Shor's algorithm.\n",
    "\n",
    "The next lines of code put everything together. **You do not need to modify anything below, but you will need to run the cell to submit your solution.**"
   ]
  },
  {
   "cell_type": "code",
   "execution_count": 7,
   "metadata": {},
   "outputs": [],
   "source": [
    "from qiskit import QuantumCircuit"
   ]
  },
  {
   "cell_type": "code",
   "execution_count": 8,
   "metadata": {},
   "outputs": [
    {
     "data": {
      "text/html": [
       "<pre style=\"word-wrap: normal;white-space: pre;background: #fff0;line-height: 1.1;font-family: &quot;Courier New&quot;,Courier,monospace\">     ┌───┐ ░                                                              ░ »\n",
       "q_0: ┤ H ├─░────────■─────────────────────────────────────────────────────░─»\n",
       "     ├───┤ ░        │                                                     ░ »\n",
       "q_1: ┤ H ├─░────────┼──────────────■──────────────────────────────────────░─»\n",
       "     ├───┤ ░        │              │                                      ░ »\n",
       "q_2: ┤ H ├─░────────┼──────────────┼──────────────■───────────────────────░─»\n",
       "     ├───┤ ░        │              │              │                       ░ »\n",
       "q_3: ┤ H ├─░────────┼──────────────┼──────────────┼──────────────■────────░─»\n",
       "     └───┘ ░ ┌─────┴┼──────┐┌─────┴┼──────┐┌─────┴┼──────┐┌─────┴┼──────┐ ░ »\n",
       "q_4: ──────░─┤0     │      ├┤0     │      ├┤0     │      ├┤0     │      ├─░─»\n",
       "           ░ │             ││             ││             ││             │ ░ »\n",
       "q_5: ──────░─┤1            ├┤1            ├┤1            ├┤1            ├─░─»\n",
       "           ░ │  7^1 mod 15 ││  7^2 mod 15 ││  7^4 mod 15 ││  7^8 mod 15 │ ░ »\n",
       "q_6: ──────░─┤2            ├┤2            ├┤2            ├┤2            ├─░─»\n",
       "     ┌───┐ ░ │             ││             ││             ││             │ ░ »\n",
       "q_7: ┤ X ├─░─┤3            ├┤3            ├┤3            ├┤3            ├─░─»\n",
       "     └───┘ ░ └─────────────┘└─────────────┘└─────────────┘└─────────────┘ ░ »\n",
       "c: 4/═══════════════════════════════════════════════════════════════════════»\n",
       "                                                                            »\n",
       "«     ┌───────┐┌─┐         \n",
       "«q_0: ┤0      ├┤M├─────────\n",
       "«     │       │└╥┘┌─┐      \n",
       "«q_1: ┤1      ├─╫─┤M├──────\n",
       "«     │  iqft │ ║ └╥┘┌─┐   \n",
       "«q_2: ┤2      ├─╫──╫─┤M├───\n",
       "«     │       │ ║  ║ └╥┘┌─┐\n",
       "«q_3: ┤3      ├─╫──╫──╫─┤M├\n",
       "«     └───────┘ ║  ║  ║ └╥┘\n",
       "«q_4: ──────────╫──╫──╫──╫─\n",
       "«               ║  ║  ║  ║ \n",
       "«q_5: ──────────╫──╫──╫──╫─\n",
       "«               ║  ║  ║  ║ \n",
       "«q_6: ──────────╫──╫──╫──╫─\n",
       "«               ║  ║  ║  ║ \n",
       "«q_7: ──────────╫──╫──╫──╫─\n",
       "«               ║  ║  ║  ║ \n",
       "«c: 4/══════════╩══╩══╩══╩═\n",
       "«               0  1  2  3 </pre>"
      ],
      "text/plain": [
       "     ┌───┐ ░                                                              ░ »\n",
       "q_0: ┤ H ├─░────────■─────────────────────────────────────────────────────░─»\n",
       "     ├───┤ ░        │                                                     ░ »\n",
       "q_1: ┤ H ├─░────────┼──────────────■──────────────────────────────────────░─»\n",
       "     ├───┤ ░        │              │                                      ░ »\n",
       "q_2: ┤ H ├─░────────┼──────────────┼──────────────■───────────────────────░─»\n",
       "     ├───┤ ░        │              │              │                       ░ »\n",
       "q_3: ┤ H ├─░────────┼──────────────┼──────────────┼──────────────■────────░─»\n",
       "     └───┘ ░ ┌─────┴┼──────┐┌─────┴┼──────┐┌─────┴┼──────┐┌─────┴┼──────┐ ░ »\n",
       "q_4: ──────░─┤0     │      ├┤0     │      ├┤0     │      ├┤0     │      ├─░─»\n",
       "           ░ │             ││             ││             ││             │ ░ »\n",
       "q_5: ──────░─┤1            ├┤1            ├┤1            ├┤1            ├─░─»\n",
       "           ░ │  7^1 mod 15 ││  7^2 mod 15 ││  7^4 mod 15 ││  7^8 mod 15 │ ░ »\n",
       "q_6: ──────░─┤2            ├┤2            ├┤2            ├┤2            ├─░─»\n",
       "     ┌───┐ ░ │             ││             ││             ││             │ ░ »\n",
       "q_7: ┤ X ├─░─┤3            ├┤3            ├┤3            ├┤3            ├─░─»\n",
       "     └───┘ ░ └─────────────┘└─────────────┘└─────────────┘└─────────────┘ ░ »\n",
       "c: 4/═══════════════════════════════════════════════════════════════════════»\n",
       "                                                                            »\n",
       "«     ┌───────┐┌─┐         \n",
       "«q_0: ┤0      ├┤M├─────────\n",
       "«     │       │└╥┘┌─┐      \n",
       "«q_1: ┤1      ├─╫─┤M├──────\n",
       "«     │  iqft │ ║ └╥┘┌─┐   \n",
       "«q_2: ┤2      ├─╫──╫─┤M├───\n",
       "«     │       │ ║  ║ └╥┘┌─┐\n",
       "«q_3: ┤3      ├─╫──╫──╫─┤M├\n",
       "«     └───────┘ ║  ║  ║ └╥┘\n",
       "«q_4: ──────────╫──╫──╫──╫─\n",
       "«               ║  ║  ║  ║ \n",
       "«q_5: ──────────╫──╫──╫──╫─\n",
       "«               ║  ║  ║  ║ \n",
       "«q_6: ──────────╫──╫──╫──╫─\n",
       "«               ║  ║  ║  ║ \n",
       "«q_7: ──────────╫──╫──╫──╫─\n",
       "«               ║  ║  ║  ║ \n",
       "«c: 4/══════════╩══╩══╩══╩═\n",
       "«               0  1  2  3 "
      ]
     },
     "execution_count": 8,
     "metadata": {},
     "output_type": "execute_result"
    }
   ],
   "source": [
    "def shor_program(n, m, a):\n",
    "    \n",
    "    # set up quantum circuit\n",
    "    shor = QuantumCircuit(n+m, n)\n",
    "    \n",
    "    # initialize the qubits\n",
    "    initialize_qubits(shor, n, m)\n",
    "    shor.barrier()\n",
    "\n",
    "    # apply modular exponentiation\n",
    "    modular_exponentiation(shor, n, m, a)\n",
    "    shor.barrier()\n",
    "\n",
    "    # apply inverse QFT\n",
    "    apply_iqft(shor, range(n))\n",
    "\n",
    "    # measure the first n qubits\n",
    "    shor.measure(range(n), range(n))\n",
    "    \n",
    "    return shor\n",
    "    \n",
    "n = 4; m = 4; a = 7\n",
    "mycircuit = shor_program(n, m, a)\n",
    "mycircuit.draw()"
   ]
  },
  {
   "cell_type": "markdown",
   "metadata": {},
   "source": [
    "That's it! In order to run your quantum circuit and get the measurement outcomes, you simply need to run `Qiskit`'s `execute` function as follows."
   ]
  },
  {
   "cell_type": "code",
   "execution_count": 9,
   "metadata": {},
   "outputs": [
    {
     "data": {
      "image/png": "[encoded data removed]",
      "text/plain": [
       "<Figure size 504x360 with 1 Axes>"
      ]
     },
     "execution_count": 9,
     "metadata": {},
     "output_type": "execute_result"
    }
   ],
   "source": [
    "from qiskit import Aer, execute\n",
    "simulator = Aer.get_backend('qasm_simulator')\n",
    "counts = execute(mycircuit, backend=simulator, shots=1000).result().get_counts(mycircuit)\n",
    "from qiskit.visualization import plot_histogram\n",
    "plot_histogram(counts)"
   ]
  },
  {
   "cell_type": "code",
   "execution_count": 10,
   "metadata": {},
   "outputs": [
    {
     "name": "stdout",
     "output_type": "stream",
     "text": [
      "Measured 0\n",
      "Measured 8\n",
      "Measured 4\n",
      "Measured 12\n"
     ]
    }
   ],
   "source": [
    "for measured_value in counts:\n",
    "    print(f\"Measured {int(measured_value[::-1], 2)}\")"
   ]
  },
  {
   "cell_type": "markdown",
   "metadata": {},
   "source": [
    "You can then follow the classical post-processing details described in lectures 10 to 12 to obtain the factors from the measurement outcomes. If you did everything correctly, you should have only measured 0, 4, 8 and 12.\n",
    "\n",
    "#### Classical post-processing\n",
    "\n",
    "Recall that in order to factor the number $N = pq$, we used a number $a$ coprime with $N$ and computed the period of $a^x \\text{ mod } N$.\n",
    "\n",
    "We will use the sequence of steps outlined in lectures 10 to 12 to guess the factors of $N$ using the measurement outcomes."
   ]
  },
  {
   "cell_type": "code",
   "execution_count": 11,
   "metadata": {},
   "outputs": [
    {
     "name": "stdout",
     "output_type": "stream",
     "text": [
      "Measured 0\n",
      "(1, 15)\n",
      "Measured 8\n",
      "(1, 15)\n",
      "Measured 4\n",
      "(5, 3)\n",
      "Measured 12\n",
      "(5, 3)\n"
     ]
    }
   ],
   "source": [
    "from math import gcd\n",
    "\n",
    "for measured_value in counts:\n",
    "    measured_value_decimal = int(measured_value[::-1], 2)\n",
    "    print(f\"Measured {measured_value_decimal}\")\n",
    "    \n",
    "    if measured_value_decimal % 2 != 0:\n",
    "        print(\"Failed. Measured value is not an even number\")\n",
    "        continue\n",
    "    x = int((a ** (measured_value_decimal/2)) % 15)\n",
    "    if (x + 1) % 15 == 0:\n",
    "        print(\"Failed. x + 1 = 0 (mod N) where x = a^(r/2) (mod N)\")\n",
    "        continue\n",
    "    guesses = gcd(x + 1, 15), gcd(x - 1, 15)\n",
    "    print(guesses)"
   ]
  },
  {
   "cell_type": "markdown",
   "metadata": {},
   "source": [
    "# Additional reading\n",
    "\n",
    "- The first experimental demonstration of Shor's algorithm was completed by researchers at IBM and Stanford in 2001 using an experimental platform called nuclear magnetic resonance. You can find the paper here: https://www.nature.com/articles/414883a\n",
    "- For additional details on the method of continued fractions, you may refer to this page (https://riliu.math.ncsu.edu/437/notes3se4.html) or any standard reference such as Mermin's Quantum Computer Science text."
   ]
  }
 ],
 "metadata": {
  "kernelspec": {
   "display_name": "Python 3",
   "language": "python",
   "name": "python3"
  },
  "language_info": {
   "codemirror_mode": {
    "name": "ipython",
    "version": 3
   },
   "file_extension": ".py",
   "mimetype": "text/x-python",
   "name": "python",
   "nbconvert_exporter": "python",
   "pygments_lexer": "ipython3",
   "version": "3.8.5"
  }
 },
 "nbformat": 4,
 "nbformat_minor": 4
}
